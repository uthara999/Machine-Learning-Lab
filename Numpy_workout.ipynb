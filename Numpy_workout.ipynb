{
  "nbformat": 4,
  "nbformat_minor": 0,
  "metadata": {
    "colab": {
      "provenance": [],
      "authorship_tag": "ABX9TyPo6IVlpJCOg/VlBzjeRXve",
      "include_colab_link": true
    },
    "kernelspec": {
      "name": "python3",
      "display_name": "Python 3"
    },
    "language_info": {
      "name": "python"
    }
  },
  "cells": [
    {
      "cell_type": "markdown",
      "metadata": {
        "id": "view-in-github",
        "colab_type": "text"
      },
      "source": [
        "<a href=\"https://colab.research.google.com/github/uthara999/Machine-Learning-Lab/blob/main/Numpy_workout.ipynb\" target=\"_parent\"><img src=\"https://colab.research.google.com/assets/colab-badge.svg\" alt=\"Open In Colab\"/></a>"
      ]
    },
    {
      "cell_type": "code",
      "source": [
        "import numpy as np"
      ],
      "metadata": {
        "id": "CoNqIwBvt3EW"
      },
      "execution_count": 2,
      "outputs": []
    },
    {
      "cell_type": "code",
      "execution_count": 7,
      "metadata": {
        "colab": {
          "base_uri": "https://localhost:8080/"
        },
        "id": "k2cUi3HYtGYi",
        "outputId": "a2cf3165-54fc-4998-f991-8cb1a0e1ac68"
      },
      "outputs": [
        {
          "output_type": "stream",
          "name": "stdout",
          "text": [
            "[[ 1  2  3  4  5]\n",
            " [ 6  7  8  9 10]]\n",
            "(2, 5)\n",
            "2\n"
          ]
        }
      ],
      "source": [
        "ar=np.array([[1,2,3,4,5],[6,7,8,9,10]])\n",
        "print(ar)\n",
        "print(ar.shape)\n",
        "print(ar.ndim)"
      ]
    },
    {
      "cell_type": "code",
      "source": [
        "#slicing\n",
        "print(ar[0,1])"
      ],
      "metadata": {
        "colab": {
          "base_uri": "https://localhost:8080/"
        },
        "id": "IqACxLG7umSm",
        "outputId": "4a13e105-348a-4734-bf23-fff55cf4cb7f"
      },
      "execution_count": 9,
      "outputs": [
        {
          "output_type": "stream",
          "name": "stdout",
          "text": [
            "2\n"
          ]
        }
      ]
    },
    {
      "cell_type": "code",
      "source": [
        "print(ar[0:2,1])"
      ],
      "metadata": {
        "colab": {
          "base_uri": "https://localhost:8080/"
        },
        "id": "BTyt0cpIu1q-",
        "outputId": "ad8c991e-8118-4bcd-9bf3-5fef10e7e19d"
      },
      "execution_count": 13,
      "outputs": [
        {
          "output_type": "stream",
          "name": "stdout",
          "text": [
            "[2 7]\n"
          ]
        }
      ]
    },
    {
      "cell_type": "code",
      "source": [
        "arr=np.array([1.8,2.3,3.7,4.8,5.1])\n",
        "newar=arr.astype(\"i\")\n",
        "print(newar)\n",
        "print(newar.dtype)"
      ],
      "metadata": {
        "colab": {
          "base_uri": "https://localhost:8080/"
        },
        "id": "3Na93BU5vaSX",
        "outputId": "94d8f1ca-4816-474b-9c66-b989679c30ed"
      },
      "execution_count": 20,
      "outputs": [
        {
          "output_type": "stream",
          "name": "stdout",
          "text": [
            "[1 2 3 4 5]\n",
            "int32\n"
          ]
        }
      ]
    },
    {
      "cell_type": "code",
      "source": [
        "ar=np.array([1,2,3,4,5])\n",
        "x=ar.copy()\n",
        "ar[0]=42\n",
        "print(ar)\n",
        "#x=ar.copy()\n",
        "print(x)\n"
      ],
      "metadata": {
        "colab": {
          "base_uri": "https://localhost:8080/"
        },
        "id": "YgvAPB3VxSl4",
        "outputId": "e1a85071-2f53-4af8-9de4-d66cb53bc851"
      },
      "execution_count": 25,
      "outputs": [
        {
          "output_type": "stream",
          "name": "stdout",
          "text": [
            "[42  2  3  4  5]\n",
            "[1 2 3 4 5]\n"
          ]
        }
      ]
    },
    {
      "cell_type": "code",
      "source": [
        "ar=np.array([1,2,3,4,5])\n",
        "x=ar.view()\n",
        "ar[0]=42\n",
        "print(ar)\n",
        "print(x)"
      ],
      "metadata": {
        "colab": {
          "base_uri": "https://localhost:8080/"
        },
        "id": "c7WLp7c8x8WX",
        "outputId": "6062ff2d-a930-4b70-8319-68c6797aafeb"
      },
      "execution_count": 24,
      "outputs": [
        {
          "output_type": "stream",
          "name": "stdout",
          "text": [
            "[42  2  3  4  5]\n",
            "[42  2  3  4  5]\n"
          ]
        }
      ]
    },
    {
      "cell_type": "code",
      "source": [
        "ar=np.array([1,2,3,4,5,6,7,8,9,10,11,12])\n",
        "newar=ar.reshape(4,3)\n",
        "print(newar)\n",
        "print(newar.shape)\n",
        "print(newar.ndim)"
      ],
      "metadata": {
        "colab": {
          "base_uri": "https://localhost:8080/"
        },
        "id": "EZPXYtx8yJzO",
        "outputId": "745fa1f6-1cc0-4e99-cbc8-a4237174d723"
      },
      "execution_count": 28,
      "outputs": [
        {
          "output_type": "stream",
          "name": "stdout",
          "text": [
            "[[ 1  2  3]\n",
            " [ 4  5  6]\n",
            " [ 7  8  9]\n",
            " [10 11 12]]\n",
            "(4, 3)\n",
            "2\n"
          ]
        }
      ]
    },
    {
      "cell_type": "code",
      "source": [
        "ar=np.array([1,2,3,4,5,6,7,8,9,10,11,12])\n",
        "newar=ar.reshape(2,3,2)\n",
        "print(newar)\n",
        "print(newar.shape)\n",
        "print(newar.ndim)"
      ],
      "metadata": {
        "colab": {
          "base_uri": "https://localhost:8080/"
        },
        "id": "PwskYRE2y6GZ",
        "outputId": "9bd0a7eb-9f94-4bca-a745-62de413a7fdd"
      },
      "execution_count": 29,
      "outputs": [
        {
          "output_type": "stream",
          "name": "stdout",
          "text": [
            "[[[ 1  2]\n",
            "  [ 3  4]\n",
            "  [ 5  6]]\n",
            "\n",
            " [[ 7  8]\n",
            "  [ 9 10]\n",
            "  [11 12]]]\n",
            "(2, 3, 2)\n",
            "3\n"
          ]
        }
      ]
    },
    {
      "cell_type": "code",
      "source": [
        "ar=np.array([[1,2,3],[4,5,6]])\n",
        "newar=ar.reshape(-1)\n",
        "print(newar)\n",
        "print(newar.shape)\n",
        "print(newar.ndim)"
      ],
      "metadata": {
        "colab": {
          "base_uri": "https://localhost:8080/"
        },
        "id": "HFADc7UuzUeq",
        "outputId": "3cbbbb8c-9de9-446d-91e1-cec367c2e202"
      },
      "execution_count": 30,
      "outputs": [
        {
          "output_type": "stream",
          "name": "stdout",
          "text": [
            "[1 2 3 4 5 6]\n",
            "(6,)\n",
            "1\n"
          ]
        }
      ]
    },
    {
      "cell_type": "code",
      "source": [
        "ar=np.array([1,2,3,4,5])\n",
        "for x in ar:\n",
        "    print(x)"
      ],
      "metadata": {
        "colab": {
          "base_uri": "https://localhost:8080/"
        },
        "id": "PXO6ihjWz6Mo",
        "outputId": "634cb99c-a3a4-4d1e-d7c0-ff3ed3837e96"
      },
      "execution_count": 31,
      "outputs": [
        {
          "output_type": "stream",
          "name": "stdout",
          "text": [
            "1\n",
            "2\n",
            "3\n",
            "4\n",
            "5\n"
          ]
        }
      ]
    },
    {
      "cell_type": "code",
      "source": [
        "ar=np.array([[1,2,3,4,5],[6,7,8,9,10]])\n",
        "#for x in ar:\n",
        "    #print(x)\n",
        "for x in ar:\n",
        "  for y in x:\n",
        "    print(y)"
      ],
      "metadata": {
        "colab": {
          "base_uri": "https://localhost:8080/"
        },
        "id": "u4_0p24M0Bo6",
        "outputId": "50e8d600-13d4-4beb-835c-2381bc3fd416"
      },
      "execution_count": 33,
      "outputs": [
        {
          "output_type": "stream",
          "name": "stdout",
          "text": [
            "1\n",
            "2\n",
            "3\n",
            "4\n",
            "5\n",
            "6\n",
            "7\n",
            "8\n",
            "9\n",
            "10\n"
          ]
        }
      ]
    },
    {
      "cell_type": "code",
      "source": [
        "ar=np.array([[1,2],[3,4],[5,6],[7,8],[9,10]])\n",
        "newar=np.array_split(ar,3)\n",
        "print(newar)\n",
        "print(newar[0])"
      ],
      "metadata": {
        "colab": {
          "base_uri": "https://localhost:8080/"
        },
        "id": "ffrtqJAD1Zub",
        "outputId": "b1c96d30-9d13-4d53-c718-96d3ea6b1721"
      },
      "execution_count": 40,
      "outputs": [
        {
          "output_type": "stream",
          "name": "stdout",
          "text": [
            "[array([[1, 2],\n",
            "       [3, 4]]), array([[5, 6],\n",
            "       [7, 8]]), array([[ 9, 10]])]\n",
            "[[1 2]\n",
            " [3 4]]\n"
          ]
        }
      ]
    },
    {
      "cell_type": "code",
      "source": [
        "ar=np.array(['banana','apple','cherry'])\n",
        "print(np.sort(ar))"
      ],
      "metadata": {
        "colab": {
          "base_uri": "https://localhost:8080/"
        },
        "id": "j73BoPJ22YyT",
        "outputId": "06cec244-aa61-490e-9f3d-c5de1b9b0d3a"
      },
      "execution_count": 42,
      "outputs": [
        {
          "output_type": "stream",
          "name": "stdout",
          "text": [
            "['apple' 'banana' 'cherry']\n"
          ]
        }
      ]
    },
    {
      "cell_type": "code",
      "source": [
        "from numpy import random\n",
        "x=random.randint(100,size=(3,5))\n",
        "print(x)"
      ],
      "metadata": {
        "colab": {
          "base_uri": "https://localhost:8080/"
        },
        "id": "bDmuuAVT3GkP",
        "outputId": "0964911c-a6f8-4df7-c206-3cae3abeb0a4"
      },
      "execution_count": 44,
      "outputs": [
        {
          "output_type": "stream",
          "name": "stdout",
          "text": [
            "[[16 60 73  0 84]\n",
            " [30 66 78 55  5]\n",
            " [47 60  7 40 15]]\n"
          ]
        }
      ]
    }
  ]
}