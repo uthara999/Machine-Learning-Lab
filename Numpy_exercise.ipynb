{
  "nbformat": 4,
  "nbformat_minor": 0,
  "metadata": {
    "colab": {
      "provenance": [],
      "authorship_tag": "ABX9TyOr7qHGRBMb6hdTkST3ID31",
      "include_colab_link": true
    },
    "kernelspec": {
      "name": "python3",
      "display_name": "Python 3"
    },
    "language_info": {
      "name": "python"
    }
  },
  "cells": [
    {
      "cell_type": "markdown",
      "metadata": {
        "id": "view-in-github",
        "colab_type": "text"
      },
      "source": [
        "<a href=\"https://colab.research.google.com/github/uthara999/Machine-Learning-Lab/blob/main/Numpy_exercise.ipynb\" target=\"_parent\"><img src=\"https://colab.research.google.com/assets/colab-badge.svg\" alt=\"Open In Colab\"/></a>"
      ]
    },
    {
      "cell_type": "code",
      "execution_count": null,
      "metadata": {
        "id": "R2C05OcXEg1B"
      },
      "outputs": [],
      "source": [
        "Create a NumPy array with values ranging from 1 to 10. Perform element-wise multiplication by 2 and calculate the mean of the resulting array"
      ]
    },
    {
      "cell_type": "code",
      "source": [
        "import numpy as np\n",
        "\n",
        "original_array = np.arange(1, 11)\n",
        "\n",
        "result_array = original_array * 2\n",
        "\n",
        "mean_result = np.mean(result_array)\n",
        "\n",
        "print(\"Original Array:\", original_array)\n",
        "print(\"Result Array after element-wise multiplication by 2:\", result_array)\n",
        "print(\"Mean of the Result Array:\", mean_result)\n"
      ],
      "metadata": {
        "colab": {
          "base_uri": "https://localhost:8080/"
        },
        "id": "kCcJysQSFQEj",
        "outputId": "0624be68-61a8-43d8-9695-4d7d5d2a641a"
      },
      "execution_count": null,
      "outputs": [
        {
          "output_type": "stream",
          "name": "stdout",
          "text": [
            "Original Array: [ 1  2  3  4  5  6  7  8  9 10]\n",
            "Result Array after element-wise multiplication by 2: [ 2  4  6  8 10 12 14 16 18 20]\n",
            "Mean of the Result Array: 11.0\n"
          ]
        }
      ]
    },
    {
      "cell_type": "code",
      "source": [
        "import numpy as np\n",
        "\n",
        "# Create a 2D NumPy array\n",
        "array_2d = np.array([[1, 2, 3],\n",
        "                    [4, 5, 6],\n",
        "                    [7, 8, 9]])\n",
        "\n",
        "# Access the second column using slicing\n",
        "second_column = array_2d[:, 1]\n",
        "\n",
        "# Access the last row using slicing\n",
        "last_row = array_2d[-1, :]\n",
        "\n",
        "print(\"Original 2D Array:\")\n",
        "print(array_2d)\n",
        "\n",
        "print(\"\\nSecond Column:\")\n",
        "print(second_column)\n",
        "\n",
        "print(\"\\nLast Row:\")\n",
        "print(last_row)\n"
      ],
      "metadata": {
        "colab": {
          "base_uri": "https://localhost:8080/"
        },
        "id": "_IOoGmC2FjQ1",
        "outputId": "cd2bb869-42e2-4b99-8dfc-b256e8d74213"
      },
      "execution_count": null,
      "outputs": [
        {
          "output_type": "stream",
          "name": "stdout",
          "text": [
            "Original 2D Array:\n",
            "[[1 2 3]\n",
            " [4 5 6]\n",
            " [7 8 9]]\n",
            "\n",
            "Second Column:\n",
            "[2 5 8]\n",
            "\n",
            "Last Row:\n",
            "[7 8 9]\n"
          ]
        }
      ]
    },
    {
      "cell_type": "code",
      "source": [
        "import numpy as np\n",
        "\n",
        "# Create two 1D NumPy arrays\n",
        "array1 = np.array([1, 2, 3, 4])\n",
        "array2 = np.array([5, 6, 7, 8])\n",
        "\n",
        "# Concatenate horizontally\n",
        "horizontal_concatenation = np.concatenate((array1, array2))\n",
        "\n",
        "# Concatenate vertically\n",
        "vertical_concatenation = np.concatenate((array1, array2), axis=0)\n",
        "\n",
        "# Reshape the resulting array into a 2x4 matrix\n",
        "reshaped_matrix = vertical_concatenation.reshape(2, 4)\n",
        "\n",
        "print(\"Array 1:\", array1)\n",
        "print(\"Array 2:\", array2)\n",
        "\n",
        "print(\"\\nHorizontally Concatenated Array:\")\n",
        "print(horizontal_concatenation)\n",
        "\n",
        "print(\"\\nVertically Concatenated Array:\")\n",
        "print(vertical_concatenation)\n",
        "\n",
        "print(\"\\nReshaped 2x4 Matrix:\")\n",
        "print(reshaped_matrix)\n"
      ],
      "metadata": {
        "colab": {
          "base_uri": "https://localhost:8080/"
        },
        "id": "_tDVpOayF_Q7",
        "outputId": "e60a906f-c48c-40bf-a889-808abf40139b"
      },
      "execution_count": null,
      "outputs": [
        {
          "output_type": "stream",
          "name": "stdout",
          "text": [
            "Array 1: [1 2 3 4]\n",
            "Array 2: [5 6 7 8]\n",
            "\n",
            "Horizontally Concatenated Array:\n",
            "[1 2 3 4 5 6 7 8]\n",
            "\n",
            "Vertically Concatenated Array:\n",
            "[1 2 3 4 5 6 7 8]\n",
            "\n",
            "Reshaped 2x4 Matrix:\n",
            "[[1 2 3 4]\n",
            " [5 6 7 8]]\n"
          ]
        }
      ]
    },
    {
      "cell_type": "code",
      "source": [
        "import numpy as np\n",
        "\n",
        "# Generate a random 1D array with 100 elements\n",
        "random_array = np.random.rand(100)\n",
        "\n",
        "# Calculate the median of the array\n",
        "median_value = np.median(random_array)\n",
        "\n",
        "# Calculate the standard deviation of the array\n",
        "std_deviation_value = np.std(random_array)\n",
        "\n",
        "print(\"Random 1D Array:\")\n",
        "print(random_array)\n",
        "\n",
        "print(\"\\nMedian of the Array:\", median_value)\n",
        "print(\"Standard Deviation of the Array:\", std_deviation_value)\n"
      ],
      "metadata": {
        "colab": {
          "base_uri": "https://localhost:8080/"
        },
        "id": "TNVBb1-XGB9K",
        "outputId": "34d0fde4-14ef-4f24-88a5-0bc01172343f"
      },
      "execution_count": null,
      "outputs": [
        {
          "output_type": "stream",
          "name": "stdout",
          "text": [
            "Random 1D Array:\n",
            "[0.27937649 0.44581432 0.00236825 0.0609117  0.92186456 0.05182757\n",
            " 0.82735436 0.05106728 0.29648964 0.57629658 0.34421852 0.2256543\n",
            " 0.68947829 0.72242092 0.52296597 0.93621017 0.98918846 0.89260559\n",
            " 0.96022296 0.35732843 0.61706139 0.01173512 0.73761232 0.08639799\n",
            " 0.35220345 0.15282045 0.62936786 0.60479291 0.70199408 0.10775366\n",
            " 0.31003718 0.34240254 0.26177566 0.45789808 0.6828116  0.6610968\n",
            " 0.23999715 0.27610004 0.50515393 0.67847396 0.14847461 0.36979512\n",
            " 0.14518282 0.03276241 0.53459366 0.09049096 0.55812835 0.74608263\n",
            " 0.5187512  0.41723737 0.27941691 0.11160328 0.30338283 0.45919434\n",
            " 0.7481503  0.10146092 0.35936639 0.15950018 0.43751877 0.15034174\n",
            " 0.11091403 0.41455258 0.90235342 0.80368295 0.07955881 0.00210209\n",
            " 0.19104037 0.82337233 0.72486891 0.29202096 0.48814674 0.3261448\n",
            " 0.09749178 0.07068618 0.55065393 0.76235428 0.24749395 0.41460306\n",
            " 0.23776164 0.8309234  0.49169397 0.16676614 0.33323743 0.43337051\n",
            " 0.8395315  0.65108945 0.56677093 0.39662268 0.45287567 0.40405964\n",
            " 0.83174633 0.81097034 0.20104187 0.68431681 0.96576048 0.60326743\n",
            " 0.22704198 0.0215033  0.19458967 0.94148087]\n",
            "\n",
            "Median of the Array: 0.4145778182682197\n",
            "Standard Deviation of the Array: 0.278449406151084\n"
          ]
        }
      ]
    },
    {
      "cell_type": "code",
      "source": [
        "Create a 20 array with dimensione (3 4) and a 1D array with kength & be broadcasting to add the 10 array to each row of the 20 array"
      ],
      "metadata": {
        "id": "2pPIGSvHGUzc"
      },
      "execution_count": null,
      "outputs": []
    },
    {
      "cell_type": "code",
      "source": [
        "import numpy as np\n",
        "\n",
        "# Create a 2D array with dimensions (3, 4)\n",
        "array_2d = np.array([[1, 2, 3, 4],\n",
        "                     [5, 6, 7, 8],\n",
        "                     [9, 10, 11, 12]])\n",
        "\n",
        "# Create a 1D array with length 4\n",
        "array_1d = np.array([10, 10, 10, 10])\n",
        "\n",
        "# Use broadcasting to add the 1D array to each row of the 2D array\n",
        "result_array = array_2d + array_1d\n",
        "\n",
        "print(\"Original 2D Array:\")\n",
        "print(array_2d)\n",
        "\n",
        "print(\"\\n1D Array to be Added:\")\n",
        "print(array_1d)\n",
        "\n",
        "print(\"\\nResult Array after Broadcasting:\")\n",
        "print(result_array)\n"
      ],
      "metadata": {
        "colab": {
          "base_uri": "https://localhost:8080/"
        },
        "id": "Hl4WlIM0GtmI",
        "outputId": "c4db587a-e484-4947-fd8e-c533bdb260ca"
      },
      "execution_count": null,
      "outputs": [
        {
          "output_type": "stream",
          "name": "stdout",
          "text": [
            "Original 2D Array:\n",
            "[[ 1  2  3  4]\n",
            " [ 5  6  7  8]\n",
            " [ 9 10 11 12]]\n",
            "\n",
            "1D Array to be Added:\n",
            "[10 10 10 10]\n",
            "\n",
            "Result Array after Broadcasting:\n",
            "[[11 12 13 14]\n",
            " [15 16 17 18]\n",
            " [19 20 21 22]]\n"
          ]
        }
      ]
    },
    {
      "cell_type": "code",
      "source": [
        "import numpy as np\n",
        "\n",
        "# Define matrices A and B\n",
        "A = np.array([[1, 2, 3],\n",
        "              [4, 5, 6]])\n",
        "\n",
        "B = np.array([[7, 8],\n",
        "              [9, 10],\n",
        "              [11, 12]])\n",
        "\n",
        "# Perform matrix multiplication using np.dot()\n",
        "result_matrix = np.dot(A, B)\n",
        "\n",
        "print(\"Matrix A:\")\n",
        "print(A)\n",
        "\n",
        "print(\"\\nMatrix B:\")\n",
        "print(B)\n",
        "\n",
        "print(\"\\nResult of Matrix Multiplication (A * B):\")\n",
        "print(result_matrix)\n"
      ],
      "metadata": {
        "colab": {
          "base_uri": "https://localhost:8080/"
        },
        "id": "EKUALmd5G1LA",
        "outputId": "131bbe22-c3ab-4276-b5a9-771a55cb976a"
      },
      "execution_count": null,
      "outputs": [
        {
          "output_type": "stream",
          "name": "stdout",
          "text": [
            "Matrix A:\n",
            "[[1 2 3]\n",
            " [4 5 6]]\n",
            "\n",
            "Matrix B:\n",
            "[[ 7  8]\n",
            " [ 9 10]\n",
            " [11 12]]\n",
            "\n",
            "Result of Matrix Multiplication (A * B):\n",
            "[[ 58  64]\n",
            " [139 154]]\n"
          ]
        }
      ]
    },
    {
      "cell_type": "code",
      "source": [
        "import numpy as np\n",
        "\n",
        "# Create a NumPy array with random integers between 1 and 20\n",
        "random_array = np.random.randint(1, 21, size=10)\n",
        "\n",
        "# Use boolean indexing to extract elements greater than 10\n",
        "result_array = random_array[random_array > 10]\n",
        "\n",
        "print(\"Original Array:\")\n",
        "print(random_array)\n",
        "\n",
        "print(\"\\nElements Greater Than 10:\")\n",
        "print(result_array)\n"
      ],
      "metadata": {
        "colab": {
          "base_uri": "https://localhost:8080/"
        },
        "id": "hENgpHNTHOQK",
        "outputId": "0a2c032d-1cd1-4e24-bf08-71957343293e"
      },
      "execution_count": null,
      "outputs": [
        {
          "output_type": "stream",
          "name": "stdout",
          "text": [
            "Original Array:\n",
            "[17  4 18  2 13  1  4 16  7  7]\n",
            "\n",
            "Elements Greater Than 10:\n",
            "[17 18 13 16]\n"
          ]
        }
      ]
    },
    {
      "cell_type": "code",
      "source": [
        "import numpy as np\n",
        "\n",
        "# Create a NumPy array\n",
        "original_array = np.random.randint(1, 101, size=(3, 4))\n",
        "\n",
        "# Save the array to a text file\n",
        "np.savetxt('my_array.txt', original_array, fmt='%d')\n",
        "\n",
        "# Load the array back from the text file\n",
        "loaded_array = np.loadtxt('my_array.txt', dtype=int)\n",
        "\n",
        "print(\"Original Array:\")\n",
        "print(original_array)\n",
        "\n",
        "print(\"\\nLoaded Array:\")\n",
        "print(loaded_array)\n",
        "\n",
        "# Verify if the loaded array is the same as the original array\n",
        "arrays_equal = np.array_equal(original_array, loaded_array)\n",
        "\n",
        "print(\"\\nAre the arrays equal?\", arrays_equal)\n",
        "\n"
      ],
      "metadata": {
        "colab": {
          "base_uri": "https://localhost:8080/"
        },
        "id": "yiq85V06HZ9p",
        "outputId": "99b70e59-9eb7-4bd0-fcb7-1793d790eb4e"
      },
      "execution_count": null,
      "outputs": [
        {
          "output_type": "stream",
          "name": "stdout",
          "text": [
            "Original Array:\n",
            "[[68 71 72 10]\n",
            " [36 18 74 95]\n",
            " [98 65 10 87]]\n",
            "\n",
            "Loaded Array:\n",
            "[[68 71 72 10]\n",
            " [36 18 74 95]\n",
            " [98 65 10 87]]\n",
            "\n",
            "Are the arrays equal? True\n"
          ]
        }
      ]
    },
    {
      "cell_type": "code",
      "source": [
        "import numpy as np\n",
        "\n",
        "# Create an array of angles in radians\n",
        "angles_radians = np.array([0, np.pi/2, np.pi, 3*np.pi/2, 2*np.pi])\n",
        "\n",
        "# Calculate the sine of each angle\n",
        "sine_values = np.sin(angles_radians)\n",
        "\n",
        "# Create another array\n",
        "original_array = np.array([1, 2, 3, 4, 5])\n",
        "\n",
        "# Calculate the exponential of each element in the array\n",
        "exp_values = np.exp(original_array)\n",
        "\n",
        "print(\"Array of Angles in Radians:\")\n",
        "print(angles_radians)\n",
        "\n",
        "print(\"\\nSine Values:\")\n",
        "print(sine_values)\n",
        "\n",
        "print(\"\\nOriginal Array:\")\n",
        "print(original_array)\n",
        "\n",
        "print(\"\\nExponential Values:\")\n",
        "print(exp_values)\n"
      ],
      "metadata": {
        "colab": {
          "base_uri": "https://localhost:8080/"
        },
        "id": "6ZtruAAIIXwG",
        "outputId": "e104de95-67a2-450d-ece5-bcbdb4a68c42"
      },
      "execution_count": null,
      "outputs": [
        {
          "output_type": "stream",
          "name": "stdout",
          "text": [
            "Array of Angles in Radians:\n",
            "[0.         1.57079633 3.14159265 4.71238898 6.28318531]\n",
            "\n",
            "Sine Values:\n",
            "[ 0.0000000e+00  1.0000000e+00  1.2246468e-16 -1.0000000e+00\n",
            " -2.4492936e-16]\n",
            "\n",
            "Original Array:\n",
            "[1 2 3 4 5]\n",
            "\n",
            "Exponential Values:\n",
            "[  2.71828183   7.3890561   20.08553692  54.59815003 148.4131591 ]\n"
          ]
        }
      ]
    },
    {
      "cell_type": "code",
      "source": [
        "import numpy as np\n",
        "import timeit\n",
        "\n",
        "# Function to add lists element-wise\n",
        "def add_lists_elementwise(list1, list2):\n",
        "    return [x + y for x, y in zip(list1, list2)]\n",
        "\n",
        "# Vectorized function using NumPy\n",
        "vectorized_add = np.vectorize(lambda x, y: x + y)\n",
        "\n",
        "# Generate two large lists\n",
        "list_size = 10**6\n",
        "list1 = np.random.rand(list_size).tolist()\n",
        "list2 = np.random.rand(list_size).tolist()\n",
        "\n",
        "# Measure the execution time for the pure Python function\n",
        "time_python = timeit.timeit(lambda: add_lists_elementwise(list1, list2), number=1)\n",
        "\n",
        "# Convert lists to NumPy arrays\n",
        "array1 = np.array(list1)\n",
        "array2 = np.array(list2)\n",
        "\n",
        "# Measure the execution time for the vectorized NumPy function\n",
        "time_numpy = timeit.timeit(lambda: vectorized_add(array1, array2), number=1)\n",
        "\n",
        "print(\"Execution time for Python function:\", time_python)\n",
        "print(\"Execution time for NumPy vectorized function:\", time_numpy)\n"
      ],
      "metadata": {
        "colab": {
          "base_uri": "https://localhost:8080/"
        },
        "id": "hINxBfbOIs3F",
        "outputId": "76a8c08a-6e67-4279-83ab-d9dbf87d4b2c"
      },
      "execution_count": null,
      "outputs": [
        {
          "output_type": "stream",
          "name": "stdout",
          "text": [
            "Execution time for Python function: 0.16307380200009902\n",
            "Execution time for NumPy vectorized function: 0.4260388860000148\n"
          ]
        }
      ]
    }
  ]
}